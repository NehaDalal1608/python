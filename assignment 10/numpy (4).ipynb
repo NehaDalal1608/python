{
 "cells": [
  {
   "cell_type": "code",
   "execution_count": 2,
   "id": "3c0de3ac-f0b6-417e-963c-9961894fac67",
   "metadata": {},
   "outputs": [
    {
     "name": "stdout",
     "output_type": "stream",
     "text": [
      "First array\n",
      "[[0. 1.]\n",
      " [2. 3.]]\n",
      "Second array:\n",
      "[12 13]\n",
      "Adding the two arrays:\n",
      "[[12. 14.]\n",
      " [14. 16.]]\n",
      "Substracting the two arrays:\n",
      "[[-12. -12.]\n",
      " [-10. -10.]]\n",
      "Multiplying the two arrays:\n",
      "[[ 0. 13.]\n",
      " [24. 39.]]\n",
      "Dividing the two arrays:\n",
      "[[0.         0.07692308]\n",
      " [0.16666667 0.23076923]]\n"
     ]
    }
   ],
   "source": [
    "import numpy as np\n",
    "#Arithmatic operations\n",
    "arr1 = np.arange(4,dtype = np.float_).reshape(2,2)\n",
    "print(\"First array\")\n",
    "print(arr1)\n",
    "print(\"Second array:\")\n",
    "arr2=np.array([12,13])\n",
    "print(arr2)\n",
    "print(\"Adding the two arrays:\")\n",
    "print(np.add(arr1,arr2))\n",
    "print(\"Substracting the two arrays:\")\n",
    "print(np.subtract(arr1,arr2))\n",
    "print(\"Multiplying the two arrays:\")\n",
    "print(np.multiply(arr1,arr2))\n",
    "print(\"Dividing the two arrays:\")\n",
    "print(np.divide(arr1,arr2))"
   ]
  },
  {
   "cell_type": "code",
   "execution_count": 4,
   "id": "d0560acc-f122-4a10-b61e-f12bc4c82b8c",
   "metadata": {},
   "outputs": [
    {
     "name": "stdout",
     "output_type": "stream",
     "text": [
      "Array is:\n",
      "[ 25.     1.33   1.     1.   100.  ]\n",
      "After applying reciprocal function array is:\n",
      "[0.04      0.7518797 1.        1.        0.01     ]\n"
     ]
    }
   ],
   "source": [
    "#numpy reciprocal\n",
    "arr3=np.array([25,1.33,1,1,100])\n",
    "print(\"Array is:\")\n",
    "print(arr3)\n",
    "print(\"After applying reciprocal function array is:\")\n",
    "print(np.reciprocal(arr3))"
   ]
  },
  {
   "cell_type": "code",
   "execution_count": 16,
   "id": "84a23fa4-ebc8-4938-8de1-08bcdfca40e7",
   "metadata": {},
   "outputs": [
    {
     "name": "stdout",
     "output_type": "stream",
     "text": [
      "First array is:\n",
      "[ 5 10 15 20]\n",
      "After applying power function array is:\n",
      "[ 25 100 225 400]\n"
     ]
    }
   ],
   "source": [
    "#numpy power\n",
    "import numpy as np\n",
    "arr=np.array([5,10,15,20])\n",
    "print(\"First array is:\")\n",
    "print(arr)\n",
    "print(\"After applying power function array is:\")\n",
    "print(np.power(arr,2))\n",
    "\n",
    "\n"
   ]
  },
  {
   "cell_type": "code",
   "execution_count": 8,
   "id": "ea981279-3397-484a-b4c7-130b612a6049",
   "metadata": {},
   "outputs": [
    {
     "name": "stdout",
     "output_type": "stream",
     "text": [
      "First Array is:\n",
      "[ 5 15 20]\n",
      "Second Array is:\n",
      "[2 5 9]\n",
      "Applying mod function :\n",
      "[1 0 2]\n",
      "Applying reminder function :\n",
      "[1 0 2]\n"
     ]
    }
   ],
   "source": [
    "#mod function\n",
    "arr5=np.array([5,15,20])\n",
    "print(\"First Array is:\")\n",
    "print(arr5)\n",
    "\n",
    "arr6=np.array([2,5,9])\n",
    "print(\"Second Array is:\")\n",
    "print(arr6)\n",
    "\n",
    "print(\"Applying mod function :\")\n",
    "print(np.mod(arr5,arr6))\n",
    "\n",
    "print(\"Applying reminder function :\")\n",
    "print(np.remainder(arr5,arr6))"
   ]
  },
  {
   "cell_type": "code",
   "execution_count": 21,
   "id": "3e54ad2b-b640-4a95-9ee7-be0bb6e696eb",
   "metadata": {},
   "outputs": [
    {
     "name": "stdout",
     "output_type": "stream",
     "text": [
      "1\n"
     ]
    }
   ],
   "source": [
    "#index\n",
    "import numpy as np\n",
    "\n",
    "arr = np.array([1, 2, 3, 4])\n",
    "\n",
    "print(arr[0])"
   ]
  },
  {
   "cell_type": "code",
   "execution_count": 23,
   "id": "e2bd9cc4-b0aa-4fc9-a42e-b7222a9be900",
   "metadata": {},
   "outputs": [
    {
     "name": "stdout",
     "output_type": "stream",
     "text": [
      "7\n"
     ]
    }
   ],
   "source": [
    "import numpy as np\n",
    "\n",
    "arr = np.array([1, 2, 3, 4])\n",
    "\n",
    "print(arr[2] + arr[3])"
   ]
  },
  {
   "cell_type": "code",
   "execution_count": 25,
   "id": "aa182101-1133-43cb-9c0e-73055b67a804",
   "metadata": {},
   "outputs": [
    {
     "name": "stdout",
     "output_type": "stream",
     "text": [
      "[2 3 4 5]\n"
     ]
    }
   ],
   "source": [
    "#slicing\n",
    "import numpy as np\n",
    "\n",
    "arr = np.array([1, 2, 3, 4, 5, 6, 7])\n",
    "\n",
    "print(arr[1:5])"
   ]
  },
  {
   "cell_type": "code",
   "execution_count": 27,
   "id": "595dbd40-840f-451b-8a2f-694e0ebebb55",
   "metadata": {},
   "outputs": [
    {
     "name": "stdout",
     "output_type": "stream",
     "text": [
      "[5 6 7]\n"
     ]
    }
   ],
   "source": [
    "import numpy as np\n",
    "\n",
    "arr = np.array([1, 2, 3, 4, 5, 6, 7])\n",
    "\n",
    "print(arr[4:])"
   ]
  },
  {
   "cell_type": "code",
   "execution_count": 29,
   "id": "aaf4e016-7855-4c64-b1ca-67af7d4c75cb",
   "metadata": {},
   "outputs": [
    {
     "name": "stdout",
     "output_type": "stream",
     "text": [
      "int32\n"
     ]
    }
   ],
   "source": [
    "#datatypes\n",
    "import numpy as np\n",
    "\n",
    "arr = np.array([1, 2, 3, 4])\n",
    "\n",
    "print(arr.dtype)"
   ]
  },
  {
   "cell_type": "code",
   "execution_count": 33,
   "id": "49f706fb-b196-4311-afc2-7849b4302c6b",
   "metadata": {},
   "outputs": [
    {
     "name": "stdout",
     "output_type": "stream",
     "text": [
      "<U6\n"
     ]
    }
   ],
   "source": [
    "import numpy as np\n",
    "\n",
    "arr = np.array(['apple', 'banana', 'cherry'])\n",
    "\n",
    "print(arr.dtype)\n"
   ]
  },
  {
   "cell_type": "code",
   "execution_count": 37,
   "id": "38fc1a36-e3ac-4036-879d-02641c93ef18",
   "metadata": {},
   "outputs": [
    {
     "name": "stdout",
     "output_type": "stream",
     "text": [
      "(2, 4)\n"
     ]
    }
   ],
   "source": [
    "\n",
    "#2-d shape import numpy as np\n",
    "\n",
    "arr = np.array([[1, 2, 3, 4], [5, 6, 7, 8]])\n",
    "\n",
    "print(arr.shape)"
   ]
  },
  {
   "cell_type": "code",
   "execution_count": 39,
   "id": "1eb24460-f17e-4e2c-9e24-65db68380098",
   "metadata": {},
   "outputs": [
    {
     "name": "stdout",
     "output_type": "stream",
     "text": [
      "[[ 1  2  3]\n",
      " [ 4  5  6]\n",
      " [ 7  8  9]\n",
      " [10 11 12]]\n"
     ]
    }
   ],
   "source": [
    "#1-d to 2-d\n",
    "import numpy as np\n",
    "\n",
    "arr = np.array([1, 2, 3, 4, 5, 6, 7, 8, 9, 10, 11, 12])\n",
    "\n",
    "newarr = arr.reshape(4, 3)\n",
    "\n",
    "print(newarr)"
   ]
  },
  {
   "cell_type": "code",
   "execution_count": 41,
   "id": "4f4e23d7-80cf-472e-be71-c5226ddf6be7",
   "metadata": {},
   "outputs": [
    {
     "name": "stdout",
     "output_type": "stream",
     "text": [
      "[[[ 1  2]\n",
      "  [ 3  4]\n",
      "  [ 5  6]]\n",
      "\n",
      " [[ 7  8]\n",
      "  [ 9 10]\n",
      "  [11 12]]]\n"
     ]
    }
   ],
   "source": [
    "#1-D to 3-D\n",
    "import numpy as np\n",
    "\n",
    "arr = np.array([1, 2, 3, 4, 5, 6, 7, 8, 9, 10, 11, 12])\n",
    "\n",
    "newarr = arr.reshape(2, 3, 2)\n",
    "\n",
    "print(newarr)"
   ]
  },
  {
   "cell_type": "code",
   "execution_count": 45,
   "id": "8242c856-0401-4253-a882-2a1da0a02848",
   "metadata": {},
   "outputs": [
    {
     "name": "stdout",
     "output_type": "stream",
     "text": [
      "[1 2 3 4 5 6]\n"
     ]
    }
   ],
   "source": [
    "#join two arrays\n",
    "import numpy as np\n",
    "\n",
    "arr1 = np.array([1, 2, 3])\n",
    "\n",
    "arr2 = np.array([4, 5, 6])\n",
    "\n",
    "arr = np.concatenate((arr1, arr2))\n",
    "\n",
    "print(arr)"
   ]
  },
  {
   "cell_type": "code",
   "execution_count": 47,
   "id": "d9b243f5-6219-48ed-b0e6-b28dc560f7be",
   "metadata": {},
   "outputs": [
    {
     "name": "stdout",
     "output_type": "stream",
     "text": [
      "[[1 2 5 6]\n",
      " [3 4 7 8]]\n"
     ]
    }
   ],
   "source": [
    "#join two 2-D arrays\n",
    "import numpy as np\n",
    "arr1 = np.array([[1, 2], [3, 4]])\n",
    "arr2 = np.array([[5, 6], [7, 8]])\n",
    "arr = np.concatenate((arr1, arr2), axis=1)\n",
    "print(arr)"
   ]
  },
  {
   "cell_type": "code",
   "execution_count": 49,
   "id": "c4d54e69-103f-40b8-9eb0-09283a4c7099",
   "metadata": {},
   "outputs": [
    {
     "name": "stdout",
     "output_type": "stream",
     "text": [
      "[array([1, 2]), array([3, 4]), array([5, 6])]\n"
     ]
    }
   ],
   "source": [
    "#Split the array in 3 parts:\n",
    "import numpy as np\n",
    "arr = np.array([1, 2, 3, 4, 5, 6])\n",
    "newarr = np.array_split(arr, 3)\n",
    "print(newarr)"
   ]
  },
  {
   "cell_type": "code",
   "execution_count": null,
   "id": "a782e36c-3c95-4125-8ac8-b2ed5d38d09c",
   "metadata": {},
   "outputs": [],
   "source": []
  }
 ],
 "metadata": {
  "kernelspec": {
   "display_name": "Python 3 (ipykernel)",
   "language": "python",
   "name": "python3"
  },
  "language_info": {
   "codemirror_mode": {
    "name": "ipython",
    "version": 3
   },
   "file_extension": ".py",
   "mimetype": "text/x-python",
   "name": "python",
   "nbconvert_exporter": "python",
   "pygments_lexer": "ipython3",
   "version": "3.12.4"
  }
 },
 "nbformat": 4,
 "nbformat_minor": 5
}
