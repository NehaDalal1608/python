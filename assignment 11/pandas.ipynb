{
 "cells": [
  {
   "cell_type": "code",
   "execution_count": 7,
   "id": "dab3821f-9a4e-4abb-8082-46138d7991f3",
   "metadata": {},
   "outputs": [
    {
     "name": "stdout",
     "output_type": "stream",
     "text": [
      "0    N\n",
      "1    e\n",
      "2    h\n",
      "3    a\n",
      "dtype: object\n",
      "0    P\n",
      "1    a\n",
      "2    n\n",
      "3    d\n",
      "4    a\n",
      "5    s\n",
      "dtype: object\n"
     ]
    }
   ],
   "source": [
    "import pandas as pd\n",
    "import numpy as np\n",
    "#Series\n",
    "name=np.array(['N','e','h','a'])\n",
    "list=pd.Series(name)\n",
    "print(list)\n",
    "\n",
    "name=np.array(['P','a','n','d','a','s'])\n",
    "a=pd.Series(name)\n",
    "print(a)"
   ]
  },
  {
   "cell_type": "code",
   "execution_count": 15,
   "id": "e96ddc63-747c-40fa-b909-02b78ee68ad9",
   "metadata": {},
   "outputs": [
    {
     "name": "stdout",
     "output_type": "stream",
     "text": [
      "       Names  Score\n",
      "0   Samiksha     80\n",
      "1  Samruddhi     81\n",
      "2       Neha     82\n",
      "3     Diksha     83\n"
     ]
    }
   ],
   "source": [
    "#Dataframes\n",
    "Students={ \n",
    "    \"Names\":[\"Samiksha\",\"Samruddhi\",\"Neha\",\"Diksha\"],\n",
    "    \"Score\":[80,81,82,83]\n",
    "}\n",
    "df=pd.DataFrame(Students)\n",
    "print(df)"
   ]
  },
  {
   "cell_type": "code",
   "execution_count": null,
   "id": "4bd5f938-9125-406a-a0c0-f69f1e477fd5",
   "metadata": {},
   "outputs": [],
   "source": []
  }
 ],
 "metadata": {
  "kernelspec": {
   "display_name": "Python 3 (ipykernel)",
   "language": "python",
   "name": "python3"
  },
  "language_info": {
   "codemirror_mode": {
    "name": "ipython",
    "version": 3
   },
   "file_extension": ".py",
   "mimetype": "text/x-python",
   "name": "python",
   "nbconvert_exporter": "python",
   "pygments_lexer": "ipython3",
   "version": "3.12.4"
  }
 },
 "nbformat": 4,
 "nbformat_minor": 5
}
